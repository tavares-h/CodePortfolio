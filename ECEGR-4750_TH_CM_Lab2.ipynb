{
 "cells": [
  {
   "cell_type": "markdown",
   "id": "704d936a-852e-412a-b4ab-23a5c411de93",
   "metadata": {},
   "source": [
    "# LAB 2 Naive Bayes\n",
    "Nov. 7th, 2024\n",
    "by Tavares h. and Cole M.\n",
    "### Part 1 #2\n",
    "row 1 = 0%, \n",
    "row 2 = 1.46%, \n",
    "row 3 = 0.87%, \n",
    "row 4 = 0%, \n",
    "row 5 = 0.56%, \n",
    "### Part 1 #3\n",
    "For our predictions, row one was classified as High, row two was classified as High, row three was classified as High, row four was classified as Low, row five was classified as Low, which leaves us with 60% accuracy.\n",
    "### Part 1 #4\n",
    "A false start we had was skipping the probability calculations that resulted in zero percent, so to fix that we went back and calculated with a very small number as not to break the algorithm.\n",
    "### Part 1 #6\n",
    "Initially we weren't indexing the data set properly leading to an issue where we failed to fill in the test and training arrays correctly. This mistake gave us 0% accuracy because there wasn't any data to validate our predictions. Other than that we had a smooth ride, once fixed, our code gave us the 60% accuracy we found by hand. \n",
    "\n",
    "At every step in the lab we were thinking through the work together, but physically Cole did most of the by hand calculations while I wrote most of the code.\n",
    "### Part 1 #7\n",
    "We made a confusion matrix by hand and it resulted in 2 for TP, 1 for TN, 1 for FP, and 1 for FN. The coded implementation also gave us this result.\n",
    "### Part 1 #8\n",
    "Our loss function resulted in 2/5, considering 0 as correct and 1 as incorrect. At first, this was confusing to us as to why we count 1 as incorrect, but 2/5 gives us a 40% loss which agrees with our 60% accuracy."
   ]
  }
 ],
 "metadata": {
  "kernelspec": {
   "display_name": "Python 3 (ipykernel)",
   "language": "python",
   "name": "python3"
  },
  "language_info": {
   "codemirror_mode": {
    "name": "ipython",
    "version": 3
   },
   "file_extension": ".py",
   "mimetype": "text/x-python",
   "name": "python",
   "nbconvert_exporter": "python",
   "pygments_lexer": "ipython3",
   "version": "3.9.20"
  }
 },
 "nbformat": 4,
 "nbformat_minor": 5
}
